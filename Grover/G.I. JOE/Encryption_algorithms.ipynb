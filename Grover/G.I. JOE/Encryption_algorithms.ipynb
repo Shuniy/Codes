{
 "cells": [
  {
   "cell_type": "markdown",
   "metadata": {},
   "source": [
    "## Shift/ Ceaser Cypher "
   ]
  },
  {
   "cell_type": "code",
   "execution_count": 6,
   "metadata": {},
   "outputs": [],
   "source": [
    "def shift_cypher(text, key):\n",
    "    encrypted = \"\"\n",
    "    for i in range(len(text)):\n",
    "        character = text[i]\n",
    "        if (character.isupper()):\n",
    "            encrypted += chr((ord(character) + key - 65) % 26 + 65)\n",
    "        else:\n",
    "            encrypted += chr((ord(character) + key - 97) % 26 + 97)\n",
    "    return encrypted\n"
   ]
  },
  {
   "cell_type": "code",
   "execution_count": 9,
   "metadata": {},
   "outputs": [],
   "source": [
    "def decryption(text, key):\n",
    "    decrypted = \"\"\n",
    "    key = 26 - key\n",
    "    for i in range(len(text)):\n",
    "        character = text[i]\n",
    "        if (character.isupper()):\n",
    "            decrypted += chr((ord(character) + key - 65) % 26 + 65)\n",
    "        else:\n",
    "            decrypted += chr((ord(character) + key - 97) % 26 + 97)\n",
    "    return decrypted"
   ]
  },
  {
   "cell_type": "code",
   "execution_count": 10,
   "metadata": {},
   "outputs": [
    {
     "name": "stdout",
     "output_type": "stream",
     "text": [
      "Entered Text :  SHUBHAMKUMAR\n",
      "Key :  3\n",
      "Encrypted :  VKXEKDPNXPDU\n",
      "Decrypted :  SHUBHAMKUMAR\n"
     ]
    }
   ],
   "source": [
    "text = \"SHUBHAMKUMAR\"\n",
    "key = 3\n",
    "\n",
    "print(\"Entered Text : \", text)\n",
    "print(\"Key : \", key)\n",
    "print(\"Encrypted : \", shift_cypher(text, key))\n",
    "print(\"Decrypted : \", decryption(shift_cypher(text, key), key))"
   ]
  },
  {
   "cell_type": "code",
   "execution_count": 17,
   "metadata": {},
   "outputs": [
    {
     "data": {
      "text/plain": [
       "65"
      ]
     },
     "execution_count": 17,
     "metadata": {},
     "output_type": "execute_result"
    }
   ],
   "source": [
    "ord('A')"
   ]
  },
  {
   "cell_type": "markdown",
   "metadata": {},
   "source": [
    "## Substituion Cypher"
   ]
  },
  {
   "cell_type": "code",
   "execution_count": 18,
   "metadata": {},
   "outputs": [
    {
     "name": "stdout",
     "output_type": "stream",
     "text": [
      "26\n",
      "Entered Text :  SHUBHAMKUMAR\n",
      "Encrypted :  IYGEYFRVGRFJ\n",
      "Decrypted :  SHUBHAMKUMAR\n"
     ]
    }
   ],
   "source": [
    "def encryption(text, encryptCypher):\n",
    "    encrypted = \"\"\n",
    "    for item in text:\n",
    "        pos = ord(item) - 65\n",
    "        pos = encryptCypher[pos]\n",
    "        current = 65 + pos\n",
    "        encrypted += chr(current)\n",
    "    return encrypted\n",
    "\n",
    "def decryption(text, decryptCypher):\n",
    "    decrypted = \"\"\n",
    "    for item in text:\n",
    "        pos = ord(item) - 65\n",
    "        pos = decryptCypher[pos]\n",
    "        current = 65 + pos\n",
    "        decrypted += chr(current)\n",
    "    return decrypted\n",
    "\n",
    "encryptCypher = [5,4,3,2,1,0,25,24,23,22,21,16,17,18,19,20,10,9,8,7,6,11,12,13,14,15]\n",
    "decryptCypher = [0 for i in range(26)]\n",
    "print(len(encryptCypher))\n",
    "\n",
    "for i in range(26):\n",
    "    decryptCypher[encryptCypher[i]] = i\n",
    "\n",
    "text = 'SHUBHAMKUMAR'\n",
    "print(\"Entered Text : \", text)\n",
    "print(\"Encrypted : \", encryption(text, encryptCypher))\n",
    "print(\"Decrypted : \", decryption(encryption(text, encryptCypher), decryptCypher))"
   ]
  },
  {
   "cell_type": "markdown",
   "metadata": {},
   "source": [
    "## Vignere Cypher"
   ]
  },
  {
   "cell_type": "code",
   "execution_count": 25,
   "metadata": {},
   "outputs": [
    {
     "name": "stdout",
     "output_type": "stream",
     "text": [
      "Entered Text :  SHUBHAMKUMAR\n",
      "Key :  HAPPYHAPPYHA\n",
      "Encrypted :  ZHJQFHMZJKHR\n",
      "Decrypted :  SHUBHAMKUMAR\n"
     ]
    }
   ],
   "source": [
    "def encryption(text, key):\n",
    "    encrypted = [] \n",
    "    for i in range(len(text)): \n",
    "        x = (ord(text[i]) + ord(key[i])) % 26\n",
    "        x += ord('A') \n",
    "        encrypted.append(chr(x))\n",
    "        \n",
    "    return(\"\" . join(encrypted))\n",
    "\n",
    "def decryption(text, key):\n",
    "    decrypted = [] \n",
    "    for i in range(len(text)): \n",
    "        x = (ord(text[i]) - ord(key[i]) + 26) % 26\n",
    "        x += ord('A') \n",
    "        decrypted.append(chr(x)) \n",
    "    return(\"\" . join(decrypted))\n",
    "\n",
    "def keygen(key, text):\n",
    "    key = list(key) \n",
    "    if len(text) == len(key): \n",
    "        return key \n",
    "    else: \n",
    "        for i in range(len(text) - len(key)): \n",
    "            key.append(key[i % len(key)]) \n",
    "    \n",
    "    return(\"\" .join(key))\n",
    "\n",
    "\n",
    "\n",
    "text = 'SHUBHAMKUMAR'\n",
    "key = 'HAPPY'\n",
    "key = keygen(key, text)\n",
    "print(\"Entered Text : \", text)\n",
    "print(\"Key : \", key)\n",
    "print(\"Encrypted : \", encryption(text, key))\n",
    "print(\"Decrypted : \", decryption(encryption(text, key), key))"
   ]
  },
  {
   "cell_type": "markdown",
   "metadata": {},
   "source": [
    "## Affine Cypher"
   ]
  },
  {
   "cell_type": "code",
   "execution_count": 34,
   "metadata": {},
   "outputs": [
    {
     "name": "stdout",
     "output_type": "stream",
     "text": [
      "Entered Text :  SHUBHAMKUMAR\n",
      "Key :  [17, 20]\n",
      "Encrypted :  OJWLJUQIWQUX\n",
      "Decrypted :  SHUBHAMKUMAR\n"
     ]
    }
   ],
   "source": [
    "def egcd(a, b): \n",
    "    x, y, u, v = 0, 1, 1, 0\n",
    "    while a != 0: \n",
    "        q, r = b // a, b % a \n",
    "        m, n = x - u * q, y - v * q \n",
    "        b , a, x, y, u, v = a, r, u, v, m, n \n",
    "    gcd = b \n",
    "    return gcd, x, y \n",
    "  \n",
    "def modinv(a, m): \n",
    "    gcd, x, y = egcd(a, m) \n",
    "    if gcd != 1: \n",
    "        return 0\n",
    "    else: \n",
    "        return x % m \n",
    "\n",
    "def encryption(text, key): \n",
    "    encrypted = []\n",
    "    for item in text.upper().replace(\" \", \"\"):\n",
    "        x = (key[0] * (ord(item) - ord('A')) + key[1] ) % 26\n",
    "        x += ord('A')\n",
    "        encrypted.append(chr(x))\n",
    "        \n",
    "    return ''.join(encrypted) \n",
    "   \n",
    "def decryption(text, key):\n",
    "    decrypted = []\n",
    "    for item in text.upper().replace(\" \", \"\"):\n",
    "        x = ((modinv(key[0], 26) * (ord(item) - ord('A') - key[1])) % 26)\n",
    "        x += ord('A')\n",
    "        decrypted.append(chr(x))\n",
    "        \n",
    "    return ''.join(decrypted)\n",
    "\n",
    "text = 'SHUBHAMKUMAR'\n",
    "key = [17, 20]\n",
    "print(\"Entered Text : \", text)\n",
    "print(\"Key : \", key)\n",
    "print(\"Encrypted : \", encryption(text, key))\n",
    "print(\"Decrypted : \", decryption(encryption(text, key), key))"
   ]
  },
  {
   "cell_type": "markdown",
   "metadata": {},
   "source": [
    "## Hill Cypher"
   ]
  },
  {
   "cell_type": "code",
   "execution_count": 42,
   "metadata": {},
   "outputs": [
    {
     "name": "stdout",
     "output_type": "stream",
     "text": [
      "Entered Text :  act\n",
      "Key :  gybnqkurp\n",
      "Encrypted :  TOH\n",
      "Decrypted :  GIZ\n"
     ]
    }
   ],
   "source": [
    "import numpy as np\n",
    "import math\n",
    "\n",
    "def encrypt(messageVector):\n",
    "    for i in range(3):\n",
    "        for j in range(1):\n",
    "            cipherMatrix[i][j] = 0\n",
    "            for x in range(3):\n",
    "                cipherMatrix[i][j] += (np.keyMatrix[i][x] * messageVector[x][j])\n",
    "                cipherMatrix[i][j] = cipherMatrix[i][j] % 26\n",
    "\n",
    "def getInverseKeyMatrix(key):\n",
    "    getKeyMatrix(key)\n",
    "    keyMatrix = np.keyMatrix\n",
    "    from sympy import Matrix\n",
    "    inverseKeyMatrix = Matrix(keyMatrix).inv_mod(26)\n",
    "    np.inverseKeyMatrix = np.array(inverseKeyMatrix)\n",
    "\n",
    "def decrypt(messageVector):\n",
    "    for i in range(3):\n",
    "        for j in range(1):\n",
    "            plainMatrix[i][j] = 0\n",
    "            for x in range(3):\n",
    "                plainMatrix[i][j] = plainMatrix[i][j] % 26\n",
    "                plainMatrix[i][j] += (np.inverseKeyMatrix[i][x] * messageVector[x][j])\n",
    "            plainMatrix[i][j] = plainMatrix[i][j] % 26\n",
    "\n",
    "def encryption(text, key):\n",
    "    getKeyMatrix(key)\n",
    "    for i in range(3):\n",
    "        messageVector[i][0] = ord(text[i]) % 65\n",
    "    encrypt(messageVector)\n",
    "    encrypted = []\n",
    "    for i in range(3):\n",
    "        encrypted.append(chr(cipherMatrix[i][0] + 65))\n",
    "    return \"\".join(encrypted)\n",
    "\n",
    "def decryption(text, key):\n",
    "    getInverseKeyMatrix(key)\n",
    "    for i in range(3):\n",
    "        messageVector[i][0] = ord(text[i]) % 65\n",
    "    decrypt(messageVector)\n",
    "    decrypted = []\n",
    "    for i in range(3):\n",
    "        decrypted.append(chr(int(round(plainMatrix[i][0]) + 65)))\n",
    "    return \"\".join(decrypted)\n",
    "\n",
    "def getKeyMatrix(key):\n",
    "    k = 0\n",
    "    for i in range(3):\n",
    "        for j in range(3):\n",
    "            np.keyMatrix[i][j] = ord(key[k]) % 65\n",
    "            k += 1\n",
    "\n",
    "np.keyMatrix = [[0] * 3 for i in range(3)]\n",
    "messageVector = [[0] for i in range(3)]\n",
    "cipherMatrix = [[0] for i in range(3)]\n",
    "plainMatrix = [[0] for i in range(3)]\n",
    "np.inverseKeyMatrix = [[0] * 3 for i in range(3)]\n",
    "\n",
    "text = 'act'\n",
    "key = 'gybnqkurp'\n",
    "print(\"Entered Text : \", text)\n",
    "print(\"Key : \", key)\n",
    "print(\"Encrypted : \", encryption(text, key))\n",
    "print(\"Decrypted : \", decryption(encryption(text, key), key))"
   ]
  },
  {
   "cell_type": "markdown",
   "metadata": {},
   "source": [
    "## Permutation Cipher"
   ]
  },
  {
   "cell_type": "code",
   "execution_count": 46,
   "metadata": {},
   "outputs": [
    {
     "name": "stdout",
     "output_type": "stream",
     "text": [
      "Encrypted :  HBSHU MUAMK RXAXX\n",
      "Decrypted :  SHUBH AMKUM ARXXX\n"
     ]
    }
   ],
   "source": [
    "def decryption(cipher, ciphertext):\n",
    "    return encrypt(inverse_key(cipher), ciphertext)\n",
    "\n",
    "def encryption(cipher, plaintext):\n",
    "    plaintext = \"\".join(plaintext.split(\" \")).upper()\n",
    "    ciphertext = \"\"\n",
    "    for pad in range(0, len(plaintext)%len(cipher)*-1%len(cipher)):\n",
    "        plaintext += \"X\"\n",
    "    for offset in range(0, len(plaintext), len(cipher)):\n",
    "        for element in [a-1 for a in cipher]:\n",
    "            ciphertext += plaintext[offset+element]\n",
    "        ciphertext += \" \"\n",
    "    return ciphertext[:-1]\n",
    "\n",
    "def inverse_key(cipher):\n",
    "    inverse = []\n",
    "    for position in range(min(cipher),max(cipher)+1,1):\n",
    "        inverse.append(cipher.index(position)+1)\n",
    "    return inverse\n",
    "\n",
    "cipher = [2,4,1,5,3]\n",
    "plaintext = \"SHUBHAMKUMAR\"\n",
    "ciphertext = encryption(cipher, plaintext)\n",
    "print(\"Encrypted : \", ciphertext)\n",
    "\n",
    "ciphertext = \"HBSHU MUAMK RXAXX\"\n",
    "plaintext = decryption(cipher, ciphertext)\n",
    "print(\"Decrypted : \", plaintext)"
   ]
  },
  {
   "cell_type": "markdown",
   "metadata": {},
   "source": [
    "## Playfair Cipher\n"
   ]
  },
  {
   "cell_type": "code",
   "execution_count": 53,
   "metadata": {},
   "outputs": [
    {
     "name": "stdout",
     "output_type": "stream",
     "text": [
      "Entered Text :  SHUBHAMKUMAR\n",
      "Key :  HELLO\n",
      "Encrypted : \n",
      "QL QG EH NM SP EU \n",
      "Decrypted : \n",
      "SH UB HA MK UM AR "
     ]
    }
   ],
   "source": [
    "def matrix(x,y,initial):\n",
    "    return [[initial for i in range(x)] for j in range(y)]\n",
    "    \n",
    "result = list()\n",
    "for c in key: \n",
    "    if c not in result:\n",
    "        if c=='J':\n",
    "            result.append('I')\n",
    "        else:\n",
    "            result.append(c)\n",
    "flag=0\n",
    "for i in range(65,91): \n",
    "    if chr(i) not in result:\n",
    "        if i==73 and chr(74) not in result:\n",
    "            result.append(\"I\")\n",
    "            flag=1\n",
    "        elif flag==0 and i==73 or i==74:\n",
    "            pass    \n",
    "        else:\n",
    "            result.append(chr(i))\n",
    "k=0\n",
    "my_matrix=matrix(5,5,0) \n",
    "for i in range(0,5): \n",
    "    for j in range(0,5):\n",
    "        my_matrix[i][j]=result[k]\n",
    "        k+=1\n",
    "\n",
    "def locindex(c): \n",
    "    loc=list()\n",
    "    if c == 'J':\n",
    "        c = 'I'\n",
    "    for i ,j in enumerate(my_matrix):\n",
    "        for k,l in enumerate(j):\n",
    "            if c == l:\n",
    "                loc.append(i)\n",
    "                loc.append(k)\n",
    "                return loc\n",
    "            \n",
    "def encryption(text):  \n",
    "    msg = text\n",
    "    msg = msg.upper()\n",
    "    msg = msg.replace(\" \", \"\")             \n",
    "    i = 0\n",
    "    for s in range(0,len(msg)+1,2):\n",
    "        if s<len(msg)-1:\n",
    "            if msg[s]==msg[s+1]:\n",
    "                msg=msg[:s+1]+'X'+msg[s+1:]\n",
    "    if len(msg)%2!=0:\n",
    "        msg=msg[:]+'X'\n",
    "    \n",
    "    print(\"Encrypted : \", end = '\\n')\n",
    "    while i<len(msg):\n",
    "        loc = list()\n",
    "        loc = locindex(msg[i])\n",
    "        loc1 = list()\n",
    "        loc1 = locindex(msg[i+1])\n",
    "        if loc[1]==loc1[1]:\n",
    "            print(\"{}{}\".format(my_matrix[(loc[0]+1)%5][loc[1]],my_matrix[(loc1[0]+1)%5][loc1[1]]),end=' ')\n",
    "        elif loc[0]==loc1[0]:\n",
    "            print(\"{}{}\".format(my_matrix[loc[0]][(loc[1]+1)%5],my_matrix[loc1[0]][(loc1[1]+1)%5]),end=' ')  \n",
    "        else:\n",
    "            print(\"{}{}\".format(my_matrix[loc[0]][loc1[1]],my_matrix[loc1[0]][loc[1]]),end=' ')    \n",
    "        i=i+2     \n",
    "    print()\n",
    "                 \n",
    "def decryption(text):  \n",
    "    msg = text\n",
    "    msg = msg.upper()\n",
    "    msg = msg.replace(\" \", \"\")\n",
    "    \n",
    "    i=0\n",
    "    print(\"Decrypted : \", end = '\\n')\n",
    "    while i<len(msg):\n",
    "        loc=list()\n",
    "        loc=locindex(msg[i])\n",
    "        loc1=list()\n",
    "        loc1=locindex(msg[i+1])\n",
    "        if loc[1]==loc1[1]:\n",
    "            print(\"{}{}\".format(my_matrix[(loc[0]-1)%5][loc[1]],my_matrix[(loc1[0]-1)%5][loc1[1]]),end=' ')\n",
    "        elif loc[0]==loc1[0]:\n",
    "            print(\"{}{}\".format(my_matrix[loc[0]][(loc[1]-1)%5],my_matrix[loc1[0]][(loc1[1]-1)%5]),end=' ')  \n",
    "        else:\n",
    "            print(\"{}{}\".format(my_matrix[loc[0]][loc1[1]],my_matrix[loc1[0]][loc[1]]),end=' ')    \n",
    "        i=i+2        \n",
    "\n",
    "text = 'SHUBHAMKUMAR'\n",
    "key = 'HELLO'\n",
    "key = key.replace(\" \", \"\")\n",
    "key = key.upper()\n",
    "print(\"Entered Text : \", text)\n",
    "print(\"Key : \", key)\n",
    "encryption(text)\n",
    "decryption('QL QG EH NM SP EU')"
   ]
  },
  {
   "cell_type": "code",
   "execution_count": null,
   "metadata": {},
   "outputs": [],
   "source": []
  }
 ],
 "metadata": {
  "kernelspec": {
   "display_name": "Python 3",
   "language": "python",
   "name": "python3"
  },
  "language_info": {
   "codemirror_mode": {
    "name": "ipython",
    "version": 3
   },
   "file_extension": ".py",
   "mimetype": "text/x-python",
   "name": "python",
   "nbconvert_exporter": "python",
   "pygments_lexer": "ipython3",
   "version": "3.7.7"
  }
 },
 "nbformat": 4,
 "nbformat_minor": 4
}